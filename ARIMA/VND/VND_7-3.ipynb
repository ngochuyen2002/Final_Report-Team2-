{
  "nbformat": 4,
  "nbformat_minor": 0,
  "metadata": {
    "colab": {
      "provenance": []
    },
    "kernelspec": {
      "name": "python3",
      "display_name": "Python 3"
    },
    "language_info": {
      "name": "python"
    }
  },
  "cells": [
    {
      "cell_type": "code",
      "execution_count": 663,
      "metadata": {
        "id": "fIiKyCURKv2Y",
        "colab": {
          "base_uri": "https://localhost:8080/"
        },
        "outputId": "b17043fa-a99f-4370-e9ca-2273e425e809"
      },
      "outputs": [
        {
          "output_type": "stream",
          "name": "stdout",
          "text": [
            "Looking in indexes: https://pypi.org/simple, https://us-python.pkg.dev/colab-wheels/public/simple/\n",
            "Requirement already satisfied: pmdarima in /usr/local/lib/python3.8/dist-packages (2.0.2)\n",
            "Requirement already satisfied: numpy>=1.21.2 in /usr/local/lib/python3.8/dist-packages (from pmdarima) (1.21.6)\n",
            "Requirement already satisfied: urllib3 in /usr/local/lib/python3.8/dist-packages (from pmdarima) (1.24.3)\n",
            "Requirement already satisfied: scikit-learn>=0.22 in /usr/local/lib/python3.8/dist-packages (from pmdarima) (1.0.2)\n",
            "Requirement already satisfied: joblib>=0.11 in /usr/local/lib/python3.8/dist-packages (from pmdarima) (1.2.0)\n",
            "Requirement already satisfied: pandas>=0.19 in /usr/local/lib/python3.8/dist-packages (from pmdarima) (1.3.5)\n",
            "Requirement already satisfied: scipy>=1.3.2 in /usr/local/lib/python3.8/dist-packages (from pmdarima) (1.7.3)\n",
            "Requirement already satisfied: setuptools!=50.0.0,>=38.6.0 in /usr/local/lib/python3.8/dist-packages (from pmdarima) (57.4.0)\n",
            "Requirement already satisfied: Cython!=0.29.18,!=0.29.31,>=0.29 in /usr/local/lib/python3.8/dist-packages (from pmdarima) (0.29.32)\n",
            "Requirement already satisfied: statsmodels>=0.13.2 in /usr/local/lib/python3.8/dist-packages (from pmdarima) (0.13.5)\n",
            "Requirement already satisfied: python-dateutil>=2.7.3 in /usr/local/lib/python3.8/dist-packages (from pandas>=0.19->pmdarima) (2.8.2)\n",
            "Requirement already satisfied: pytz>=2017.3 in /usr/local/lib/python3.8/dist-packages (from pandas>=0.19->pmdarima) (2022.7)\n",
            "Requirement already satisfied: threadpoolctl>=2.0.0 in /usr/local/lib/python3.8/dist-packages (from scikit-learn>=0.22->pmdarima) (3.1.0)\n",
            "Requirement already satisfied: packaging>=21.3 in /usr/local/lib/python3.8/dist-packages (from statsmodels>=0.13.2->pmdarima) (21.3)\n",
            "Requirement already satisfied: patsy>=0.5.2 in /usr/local/lib/python3.8/dist-packages (from statsmodels>=0.13.2->pmdarima) (0.5.3)\n",
            "Requirement already satisfied: pyparsing!=3.0.5,>=2.0.2 in /usr/local/lib/python3.8/dist-packages (from packaging>=21.3->statsmodels>=0.13.2->pmdarima) (3.0.9)\n",
            "Requirement already satisfied: six in /usr/local/lib/python3.8/dist-packages (from patsy>=0.5.2->statsmodels>=0.13.2->pmdarima) (1.15.0)\n"
          ]
        }
      ],
      "source": [
        "!pip install pmdarima"
      ]
    },
    {
      "cell_type": "code",
      "source": [],
      "metadata": {
        "id": "kVqgB0Aan6JS"
      },
      "execution_count": 663,
      "outputs": []
    },
    {
      "cell_type": "code",
      "execution_count": 664,
      "metadata": {
        "id": "31ad8ce4"
      },
      "outputs": [],
      "source": [
        "import pandas as pd\n",
        "import numpy as np\n",
        "import matplotlib.pyplot as plt\n",
        "import statsmodels.api as sm\n",
        "from pmdarima import auto_arima\n",
        "from statsmodels.tsa.seasonal import seasonal_decompose\n",
        "from statsmodels.tsa.stattools import adfuller\n",
        "from math import sqrt\n",
        "%matplotlib inline\n",
        "\n",
        "# Load specific forecasting tools\n",
        "from statsmodels.tsa.arima_model import ARMA,ARMAResults,ARIMA,ARIMAResults\n",
        "from statsmodels.graphics.tsaplots import plot_acf,plot_pacf # for determining (p,q) orders\n",
        "from pmdarima import auto_arima # for determining ARIMA orders\n",
        "\n",
        "# Ignore harmless warnings\n",
        "import warnings\n",
        "warnings.filterwarnings(\"ignore\")\n"
      ]
    },
    {
      "cell_type": "code",
      "source": [
        "\n",
        "df = pd.read_csv('VND Historical Data.csv')\n",
        "df.info()\n"
      ],
      "metadata": {
        "colab": {
          "base_uri": "https://localhost:8080/"
        },
        "id": "8KisnXuycfLl",
        "outputId": "9ac52f18-a9b9-4943-bce8-7bfccf142c70"
      },
      "execution_count": 665,
      "outputs": [
        {
          "output_type": "stream",
          "name": "stdout",
          "text": [
            "<class 'pandas.core.frame.DataFrame'>\n",
            "RangeIndex: 1243 entries, 0 to 1242\n",
            "Data columns (total 7 columns):\n",
            " #   Column    Non-Null Count  Dtype  \n",
            "---  ------    --------------  -----  \n",
            " 0   Date      1243 non-null   object \n",
            " 1   Price     1243 non-null   float64\n",
            " 2   Open      1243 non-null   float64\n",
            " 3   High      1243 non-null   float64\n",
            " 4   Low       1243 non-null   float64\n",
            " 5   Vol.      1243 non-null   float64\n",
            " 6   Change %  1243 non-null   float64\n",
            "dtypes: float64(6), object(1)\n",
            "memory usage: 68.1+ KB\n"
          ]
        }
      ]
    },
    {
      "cell_type": "code",
      "source": [
        "\n",
        "dataset=df.loc[:,[\"Date\",\"Price\"]]\n",
        "dataset.tail()"
      ],
      "metadata": {
        "colab": {
          "base_uri": "https://localhost:8080/",
          "height": 206
        },
        "id": "AvLuV6Eam1WJ",
        "outputId": "1cf4ab7b-2abd-4d5f-d72c-1c4857b7cc43"
      },
      "execution_count": 666,
      "outputs": [
        {
          "output_type": "execute_result",
          "data": {
            "text/plain": [
              "            Date    Price\n",
              "1238  11/25/2022  11250.0\n",
              "1239  11/28/2022  12000.0\n",
              "1240  11/29/2022  12800.0\n",
              "1241  11/30/2022  13600.0\n",
              "1242   12/1/2022  13000.0"
            ],
            "text/html": [
              "\n",
              "  <div id=\"df-00ee4ced-154e-42a4-8a1c-fd9282b56c7b\">\n",
              "    <div class=\"colab-df-container\">\n",
              "      <div>\n",
              "<style scoped>\n",
              "    .dataframe tbody tr th:only-of-type {\n",
              "        vertical-align: middle;\n",
              "    }\n",
              "\n",
              "    .dataframe tbody tr th {\n",
              "        vertical-align: top;\n",
              "    }\n",
              "\n",
              "    .dataframe thead th {\n",
              "        text-align: right;\n",
              "    }\n",
              "</style>\n",
              "<table border=\"1\" class=\"dataframe\">\n",
              "  <thead>\n",
              "    <tr style=\"text-align: right;\">\n",
              "      <th></th>\n",
              "      <th>Date</th>\n",
              "      <th>Price</th>\n",
              "    </tr>\n",
              "  </thead>\n",
              "  <tbody>\n",
              "    <tr>\n",
              "      <th>1238</th>\n",
              "      <td>11/25/2022</td>\n",
              "      <td>11250.0</td>\n",
              "    </tr>\n",
              "    <tr>\n",
              "      <th>1239</th>\n",
              "      <td>11/28/2022</td>\n",
              "      <td>12000.0</td>\n",
              "    </tr>\n",
              "    <tr>\n",
              "      <th>1240</th>\n",
              "      <td>11/29/2022</td>\n",
              "      <td>12800.0</td>\n",
              "    </tr>\n",
              "    <tr>\n",
              "      <th>1241</th>\n",
              "      <td>11/30/2022</td>\n",
              "      <td>13600.0</td>\n",
              "    </tr>\n",
              "    <tr>\n",
              "      <th>1242</th>\n",
              "      <td>12/1/2022</td>\n",
              "      <td>13000.0</td>\n",
              "    </tr>\n",
              "  </tbody>\n",
              "</table>\n",
              "</div>\n",
              "      <button class=\"colab-df-convert\" onclick=\"convertToInteractive('df-00ee4ced-154e-42a4-8a1c-fd9282b56c7b')\"\n",
              "              title=\"Convert this dataframe to an interactive table.\"\n",
              "              style=\"display:none;\">\n",
              "        \n",
              "  <svg xmlns=\"http://www.w3.org/2000/svg\" height=\"24px\"viewBox=\"0 0 24 24\"\n",
              "       width=\"24px\">\n",
              "    <path d=\"M0 0h24v24H0V0z\" fill=\"none\"/>\n",
              "    <path d=\"M18.56 5.44l.94 2.06.94-2.06 2.06-.94-2.06-.94-.94-2.06-.94 2.06-2.06.94zm-11 1L8.5 8.5l.94-2.06 2.06-.94-2.06-.94L8.5 2.5l-.94 2.06-2.06.94zm10 10l.94 2.06.94-2.06 2.06-.94-2.06-.94-.94-2.06-.94 2.06-2.06.94z\"/><path d=\"M17.41 7.96l-1.37-1.37c-.4-.4-.92-.59-1.43-.59-.52 0-1.04.2-1.43.59L10.3 9.45l-7.72 7.72c-.78.78-.78 2.05 0 2.83L4 21.41c.39.39.9.59 1.41.59.51 0 1.02-.2 1.41-.59l7.78-7.78 2.81-2.81c.8-.78.8-2.07 0-2.86zM5.41 20L4 18.59l7.72-7.72 1.47 1.35L5.41 20z\"/>\n",
              "  </svg>\n",
              "      </button>\n",
              "      \n",
              "  <style>\n",
              "    .colab-df-container {\n",
              "      display:flex;\n",
              "      flex-wrap:wrap;\n",
              "      gap: 12px;\n",
              "    }\n",
              "\n",
              "    .colab-df-convert {\n",
              "      background-color: #E8F0FE;\n",
              "      border: none;\n",
              "      border-radius: 50%;\n",
              "      cursor: pointer;\n",
              "      display: none;\n",
              "      fill: #1967D2;\n",
              "      height: 32px;\n",
              "      padding: 0 0 0 0;\n",
              "      width: 32px;\n",
              "    }\n",
              "\n",
              "    .colab-df-convert:hover {\n",
              "      background-color: #E2EBFA;\n",
              "      box-shadow: 0px 1px 2px rgba(60, 64, 67, 0.3), 0px 1px 3px 1px rgba(60, 64, 67, 0.15);\n",
              "      fill: #174EA6;\n",
              "    }\n",
              "\n",
              "    [theme=dark] .colab-df-convert {\n",
              "      background-color: #3B4455;\n",
              "      fill: #D2E3FC;\n",
              "    }\n",
              "\n",
              "    [theme=dark] .colab-df-convert:hover {\n",
              "      background-color: #434B5C;\n",
              "      box-shadow: 0px 1px 3px 1px rgba(0, 0, 0, 0.15);\n",
              "      filter: drop-shadow(0px 1px 2px rgba(0, 0, 0, 0.3));\n",
              "      fill: #FFFFFF;\n",
              "    }\n",
              "  </style>\n",
              "\n",
              "      <script>\n",
              "        const buttonEl =\n",
              "          document.querySelector('#df-00ee4ced-154e-42a4-8a1c-fd9282b56c7b button.colab-df-convert');\n",
              "        buttonEl.style.display =\n",
              "          google.colab.kernel.accessAllowed ? 'block' : 'none';\n",
              "\n",
              "        async function convertToInteractive(key) {\n",
              "          const element = document.querySelector('#df-00ee4ced-154e-42a4-8a1c-fd9282b56c7b');\n",
              "          const dataTable =\n",
              "            await google.colab.kernel.invokeFunction('convertToInteractive',\n",
              "                                                     [key], {});\n",
              "          if (!dataTable) return;\n",
              "\n",
              "          const docLinkHtml = 'Like what you see? Visit the ' +\n",
              "            '<a target=\"_blank\" href=https://colab.research.google.com/notebooks/data_table.ipynb>data table notebook</a>'\n",
              "            + ' to learn more about interactive tables.';\n",
              "          element.innerHTML = '';\n",
              "          dataTable['output_type'] = 'display_data';\n",
              "          await google.colab.output.renderOutput(dataTable, element);\n",
              "          const docLink = document.createElement('div');\n",
              "          docLink.innerHTML = docLinkHtml;\n",
              "          element.appendChild(docLink);\n",
              "        }\n",
              "      </script>\n",
              "    </div>\n",
              "  </div>\n",
              "  "
            ]
          },
          "metadata": {},
          "execution_count": 666
        }
      ]
    },
    {
      "cell_type": "code",
      "source": [
        "dataset.head()"
      ],
      "metadata": {
        "colab": {
          "base_uri": "https://localhost:8080/",
          "height": 206
        },
        "id": "WWVndgYYLR5u",
        "outputId": "894d90ad-d0bc-4e98-9712-9318d43087dc"
      },
      "execution_count": 667,
      "outputs": [
        {
          "output_type": "execute_result",
          "data": {
            "text/plain": [
              "        Date    Price\n",
              "0  12/1/2017  16511.9\n",
              "1  12/4/2017  16997.5\n",
              "2  12/5/2017  16303.7\n",
              "3  12/6/2017  16234.4\n",
              "4  12/7/2017  15818.1"
            ],
            "text/html": [
              "\n",
              "  <div id=\"df-bf22801d-c5f1-4024-9d70-03ce7585b4da\">\n",
              "    <div class=\"colab-df-container\">\n",
              "      <div>\n",
              "<style scoped>\n",
              "    .dataframe tbody tr th:only-of-type {\n",
              "        vertical-align: middle;\n",
              "    }\n",
              "\n",
              "    .dataframe tbody tr th {\n",
              "        vertical-align: top;\n",
              "    }\n",
              "\n",
              "    .dataframe thead th {\n",
              "        text-align: right;\n",
              "    }\n",
              "</style>\n",
              "<table border=\"1\" class=\"dataframe\">\n",
              "  <thead>\n",
              "    <tr style=\"text-align: right;\">\n",
              "      <th></th>\n",
              "      <th>Date</th>\n",
              "      <th>Price</th>\n",
              "    </tr>\n",
              "  </thead>\n",
              "  <tbody>\n",
              "    <tr>\n",
              "      <th>0</th>\n",
              "      <td>12/1/2017</td>\n",
              "      <td>16511.9</td>\n",
              "    </tr>\n",
              "    <tr>\n",
              "      <th>1</th>\n",
              "      <td>12/4/2017</td>\n",
              "      <td>16997.5</td>\n",
              "    </tr>\n",
              "    <tr>\n",
              "      <th>2</th>\n",
              "      <td>12/5/2017</td>\n",
              "      <td>16303.7</td>\n",
              "    </tr>\n",
              "    <tr>\n",
              "      <th>3</th>\n",
              "      <td>12/6/2017</td>\n",
              "      <td>16234.4</td>\n",
              "    </tr>\n",
              "    <tr>\n",
              "      <th>4</th>\n",
              "      <td>12/7/2017</td>\n",
              "      <td>15818.1</td>\n",
              "    </tr>\n",
              "  </tbody>\n",
              "</table>\n",
              "</div>\n",
              "      <button class=\"colab-df-convert\" onclick=\"convertToInteractive('df-bf22801d-c5f1-4024-9d70-03ce7585b4da')\"\n",
              "              title=\"Convert this dataframe to an interactive table.\"\n",
              "              style=\"display:none;\">\n",
              "        \n",
              "  <svg xmlns=\"http://www.w3.org/2000/svg\" height=\"24px\"viewBox=\"0 0 24 24\"\n",
              "       width=\"24px\">\n",
              "    <path d=\"M0 0h24v24H0V0z\" fill=\"none\"/>\n",
              "    <path d=\"M18.56 5.44l.94 2.06.94-2.06 2.06-.94-2.06-.94-.94-2.06-.94 2.06-2.06.94zm-11 1L8.5 8.5l.94-2.06 2.06-.94-2.06-.94L8.5 2.5l-.94 2.06-2.06.94zm10 10l.94 2.06.94-2.06 2.06-.94-2.06-.94-.94-2.06-.94 2.06-2.06.94z\"/><path d=\"M17.41 7.96l-1.37-1.37c-.4-.4-.92-.59-1.43-.59-.52 0-1.04.2-1.43.59L10.3 9.45l-7.72 7.72c-.78.78-.78 2.05 0 2.83L4 21.41c.39.39.9.59 1.41.59.51 0 1.02-.2 1.41-.59l7.78-7.78 2.81-2.81c.8-.78.8-2.07 0-2.86zM5.41 20L4 18.59l7.72-7.72 1.47 1.35L5.41 20z\"/>\n",
              "  </svg>\n",
              "      </button>\n",
              "      \n",
              "  <style>\n",
              "    .colab-df-container {\n",
              "      display:flex;\n",
              "      flex-wrap:wrap;\n",
              "      gap: 12px;\n",
              "    }\n",
              "\n",
              "    .colab-df-convert {\n",
              "      background-color: #E8F0FE;\n",
              "      border: none;\n",
              "      border-radius: 50%;\n",
              "      cursor: pointer;\n",
              "      display: none;\n",
              "      fill: #1967D2;\n",
              "      height: 32px;\n",
              "      padding: 0 0 0 0;\n",
              "      width: 32px;\n",
              "    }\n",
              "\n",
              "    .colab-df-convert:hover {\n",
              "      background-color: #E2EBFA;\n",
              "      box-shadow: 0px 1px 2px rgba(60, 64, 67, 0.3), 0px 1px 3px 1px rgba(60, 64, 67, 0.15);\n",
              "      fill: #174EA6;\n",
              "    }\n",
              "\n",
              "    [theme=dark] .colab-df-convert {\n",
              "      background-color: #3B4455;\n",
              "      fill: #D2E3FC;\n",
              "    }\n",
              "\n",
              "    [theme=dark] .colab-df-convert:hover {\n",
              "      background-color: #434B5C;\n",
              "      box-shadow: 0px 1px 3px 1px rgba(0, 0, 0, 0.15);\n",
              "      filter: drop-shadow(0px 1px 2px rgba(0, 0, 0, 0.3));\n",
              "      fill: #FFFFFF;\n",
              "    }\n",
              "  </style>\n",
              "\n",
              "      <script>\n",
              "        const buttonEl =\n",
              "          document.querySelector('#df-bf22801d-c5f1-4024-9d70-03ce7585b4da button.colab-df-convert');\n",
              "        buttonEl.style.display =\n",
              "          google.colab.kernel.accessAllowed ? 'block' : 'none';\n",
              "\n",
              "        async function convertToInteractive(key) {\n",
              "          const element = document.querySelector('#df-bf22801d-c5f1-4024-9d70-03ce7585b4da');\n",
              "          const dataTable =\n",
              "            await google.colab.kernel.invokeFunction('convertToInteractive',\n",
              "                                                     [key], {});\n",
              "          if (!dataTable) return;\n",
              "\n",
              "          const docLinkHtml = 'Like what you see? Visit the ' +\n",
              "            '<a target=\"_blank\" href=https://colab.research.google.com/notebooks/data_table.ipynb>data table notebook</a>'\n",
              "            + ' to learn more about interactive tables.';\n",
              "          element.innerHTML = '';\n",
              "          dataTable['output_type'] = 'display_data';\n",
              "          await google.colab.output.renderOutput(dataTable, element);\n",
              "          const docLink = document.createElement('div');\n",
              "          docLink.innerHTML = docLinkHtml;\n",
              "          element.appendChild(docLink);\n",
              "        }\n",
              "      </script>\n",
              "    </div>\n",
              "  </div>\n",
              "  "
            ]
          },
          "metadata": {},
          "execution_count": 667
        }
      ]
    },
    {
      "cell_type": "code",
      "source": [
        "dataset.info()"
      ],
      "metadata": {
        "colab": {
          "base_uri": "https://localhost:8080/"
        },
        "id": "m3ii8pUjLR4H",
        "outputId": "46e0ee20-7e3d-4a5c-ade8-db0445206bcb"
      },
      "execution_count": 668,
      "outputs": [
        {
          "output_type": "stream",
          "name": "stdout",
          "text": [
            "<class 'pandas.core.frame.DataFrame'>\n",
            "RangeIndex: 1243 entries, 0 to 1242\n",
            "Data columns (total 2 columns):\n",
            " #   Column  Non-Null Count  Dtype  \n",
            "---  ------  --------------  -----  \n",
            " 0   Date    1243 non-null   object \n",
            " 1   Price   1243 non-null   float64\n",
            "dtypes: float64(1), object(1)\n",
            "memory usage: 19.5+ KB\n"
          ]
        }
      ]
    },
    {
      "cell_type": "code",
      "source": [
        "dataset.describe()"
      ],
      "metadata": {
        "colab": {
          "base_uri": "https://localhost:8080/",
          "height": 300
        },
        "id": "OU3m4JZ3LR1_",
        "outputId": "a7be099c-19b5-4d74-e817-7e844fac8df2"
      },
      "execution_count": 669,
      "outputs": [
        {
          "output_type": "execute_result",
          "data": {
            "text/plain": [
              "              Price\n",
              "count   1243.000000\n",
              "mean   14699.721641\n",
              "std     8437.740722\n",
              "min     2578.000000\n",
              "25%     8209.500000\n",
              "50%    15521.000000\n",
              "75%    20397.250000\n",
              "max    34784.300000"
            ],
            "text/html": [
              "\n",
              "  <div id=\"df-dc3eb837-c1c9-4923-8f1a-2f4b0d64a925\">\n",
              "    <div class=\"colab-df-container\">\n",
              "      <div>\n",
              "<style scoped>\n",
              "    .dataframe tbody tr th:only-of-type {\n",
              "        vertical-align: middle;\n",
              "    }\n",
              "\n",
              "    .dataframe tbody tr th {\n",
              "        vertical-align: top;\n",
              "    }\n",
              "\n",
              "    .dataframe thead th {\n",
              "        text-align: right;\n",
              "    }\n",
              "</style>\n",
              "<table border=\"1\" class=\"dataframe\">\n",
              "  <thead>\n",
              "    <tr style=\"text-align: right;\">\n",
              "      <th></th>\n",
              "      <th>Price</th>\n",
              "    </tr>\n",
              "  </thead>\n",
              "  <tbody>\n",
              "    <tr>\n",
              "      <th>count</th>\n",
              "      <td>1243.000000</td>\n",
              "    </tr>\n",
              "    <tr>\n",
              "      <th>mean</th>\n",
              "      <td>14699.721641</td>\n",
              "    </tr>\n",
              "    <tr>\n",
              "      <th>std</th>\n",
              "      <td>8437.740722</td>\n",
              "    </tr>\n",
              "    <tr>\n",
              "      <th>min</th>\n",
              "      <td>2578.000000</td>\n",
              "    </tr>\n",
              "    <tr>\n",
              "      <th>25%</th>\n",
              "      <td>8209.500000</td>\n",
              "    </tr>\n",
              "    <tr>\n",
              "      <th>50%</th>\n",
              "      <td>15521.000000</td>\n",
              "    </tr>\n",
              "    <tr>\n",
              "      <th>75%</th>\n",
              "      <td>20397.250000</td>\n",
              "    </tr>\n",
              "    <tr>\n",
              "      <th>max</th>\n",
              "      <td>34784.300000</td>\n",
              "    </tr>\n",
              "  </tbody>\n",
              "</table>\n",
              "</div>\n",
              "      <button class=\"colab-df-convert\" onclick=\"convertToInteractive('df-dc3eb837-c1c9-4923-8f1a-2f4b0d64a925')\"\n",
              "              title=\"Convert this dataframe to an interactive table.\"\n",
              "              style=\"display:none;\">\n",
              "        \n",
              "  <svg xmlns=\"http://www.w3.org/2000/svg\" height=\"24px\"viewBox=\"0 0 24 24\"\n",
              "       width=\"24px\">\n",
              "    <path d=\"M0 0h24v24H0V0z\" fill=\"none\"/>\n",
              "    <path d=\"M18.56 5.44l.94 2.06.94-2.06 2.06-.94-2.06-.94-.94-2.06-.94 2.06-2.06.94zm-11 1L8.5 8.5l.94-2.06 2.06-.94-2.06-.94L8.5 2.5l-.94 2.06-2.06.94zm10 10l.94 2.06.94-2.06 2.06-.94-2.06-.94-.94-2.06-.94 2.06-2.06.94z\"/><path d=\"M17.41 7.96l-1.37-1.37c-.4-.4-.92-.59-1.43-.59-.52 0-1.04.2-1.43.59L10.3 9.45l-7.72 7.72c-.78.78-.78 2.05 0 2.83L4 21.41c.39.39.9.59 1.41.59.51 0 1.02-.2 1.41-.59l7.78-7.78 2.81-2.81c.8-.78.8-2.07 0-2.86zM5.41 20L4 18.59l7.72-7.72 1.47 1.35L5.41 20z\"/>\n",
              "  </svg>\n",
              "      </button>\n",
              "      \n",
              "  <style>\n",
              "    .colab-df-container {\n",
              "      display:flex;\n",
              "      flex-wrap:wrap;\n",
              "      gap: 12px;\n",
              "    }\n",
              "\n",
              "    .colab-df-convert {\n",
              "      background-color: #E8F0FE;\n",
              "      border: none;\n",
              "      border-radius: 50%;\n",
              "      cursor: pointer;\n",
              "      display: none;\n",
              "      fill: #1967D2;\n",
              "      height: 32px;\n",
              "      padding: 0 0 0 0;\n",
              "      width: 32px;\n",
              "    }\n",
              "\n",
              "    .colab-df-convert:hover {\n",
              "      background-color: #E2EBFA;\n",
              "      box-shadow: 0px 1px 2px rgba(60, 64, 67, 0.3), 0px 1px 3px 1px rgba(60, 64, 67, 0.15);\n",
              "      fill: #174EA6;\n",
              "    }\n",
              "\n",
              "    [theme=dark] .colab-df-convert {\n",
              "      background-color: #3B4455;\n",
              "      fill: #D2E3FC;\n",
              "    }\n",
              "\n",
              "    [theme=dark] .colab-df-convert:hover {\n",
              "      background-color: #434B5C;\n",
              "      box-shadow: 0px 1px 3px 1px rgba(0, 0, 0, 0.15);\n",
              "      filter: drop-shadow(0px 1px 2px rgba(0, 0, 0, 0.3));\n",
              "      fill: #FFFFFF;\n",
              "    }\n",
              "  </style>\n",
              "\n",
              "      <script>\n",
              "        const buttonEl =\n",
              "          document.querySelector('#df-dc3eb837-c1c9-4923-8f1a-2f4b0d64a925 button.colab-df-convert');\n",
              "        buttonEl.style.display =\n",
              "          google.colab.kernel.accessAllowed ? 'block' : 'none';\n",
              "\n",
              "        async function convertToInteractive(key) {\n",
              "          const element = document.querySelector('#df-dc3eb837-c1c9-4923-8f1a-2f4b0d64a925');\n",
              "          const dataTable =\n",
              "            await google.colab.kernel.invokeFunction('convertToInteractive',\n",
              "                                                     [key], {});\n",
              "          if (!dataTable) return;\n",
              "\n",
              "          const docLinkHtml = 'Like what you see? Visit the ' +\n",
              "            '<a target=\"_blank\" href=https://colab.research.google.com/notebooks/data_table.ipynb>data table notebook</a>'\n",
              "            + ' to learn more about interactive tables.';\n",
              "          element.innerHTML = '';\n",
              "          dataTable['output_type'] = 'display_data';\n",
              "          await google.colab.output.renderOutput(dataTable, element);\n",
              "          const docLink = document.createElement('div');\n",
              "          docLink.innerHTML = docLinkHtml;\n",
              "          element.appendChild(docLink);\n",
              "        }\n",
              "      </script>\n",
              "    </div>\n",
              "  </div>\n",
              "  "
            ]
          },
          "metadata": {},
          "execution_count": 669
        }
      ]
    },
    {
      "cell_type": "code",
      "source": [
        "plt.figure(figsize=(20,12))\n",
        "plt.subplot(2, 1, 1)\n",
        "plt.title('VND Stock Price')\n",
        "plt.plot(df.Price,label='Price')\n",
        "plt.legend()\n"
      ],
      "metadata": {
        "colab": {
          "base_uri": "https://localhost:8080/",
          "height": 272
        },
        "id": "ovBkLiFye1Gy",
        "outputId": "01aafc92-d567-4dab-cd18-771f6a0ac71c"
      },
      "execution_count": 670,
      "outputs": [
        {
          "output_type": "execute_result",
          "data": {
            "text/plain": [
              "<matplotlib.legend.Legend at 0x7ff8ebfeb730>"
            ]
          },
          "metadata": {},
          "execution_count": 670
        },
        {
          "output_type": "display_data",
          "data": {
            "text/plain": [
              "<Figure size 1440x864 with 1 Axes>"
            ],
            "image/png": "[encoded data removed]"
          },
          "metadata": {
            "needs_background": "light"
          }
        }
      ]
    },
    {
      "cell_type": "code",
      "source": [
        "from statsmodels.tsa.stattools import adfuller\n",
        "\n",
        "def adf_test(series,title=''):\n",
        "    \"\"\"\n",
        "    Pass in a time series and an optional title, returns an ADF report\n",
        "    \"\"\"\n",
        "    print(f'Augmented Dickey-Fuller Test: {title}')\n",
        "    result = adfuller(series.dropna(),autolag='AIC') # .dropna() handles differenced data\n",
        "    \n",
        "    labels = ['ADF test statistic','p-value','# lags used','# observations']\n",
        "    out = pd.Series(result[0:4],index=labels)\n",
        "\n",
        "    for key,val in result[4].items():\n",
        "        out[f'critical value ({key})']=val\n",
        "        \n",
        "    print(out.to_string())          # .to_string() removes the line \"dtype: float64\"\n",
        "    \n",
        "    if result[1] <= 0.05:\n",
        "        print(\"Strong evidence against the null hypothesis\")\n",
        "        print(\"Reject the null hypothesis\")\n",
        "        print(\"Data has no unit root and is stationary\")\n",
        "    else:\n",
        "        print(\"Weak evidence against the null hypothesis\")\n",
        "        print(\"Fail to reject the null hypothesis\")\n",
        "        print(\"Data has a unit root and is non-stationary\")"
      ],
      "metadata": {
        "id": "gtfGjUKJpmx0"
      },
      "execution_count": 671,
      "outputs": []
    },
    {
      "cell_type": "code",
      "source": [
        "adf_test(df['Price'])"
      ],
      "metadata": {
        "colab": {
          "base_uri": "https://localhost:8080/"
        },
        "id": "FXpimW11qWTl",
        "outputId": "94ec7a0d-8a33-48cd-d789-776b0c488cbf"
      },
      "execution_count": 672,
      "outputs": [
        {
          "output_type": "stream",
          "name": "stdout",
          "text": [
            "Augmented Dickey-Fuller Test: \n",
            "ADF test statistic        -1.336204\n",
            "p-value                    0.612450\n",
            "# lags used                1.000000\n",
            "# observations          1241.000000\n",
            "critical value (1%)       -3.435630\n",
            "critical value (5%)       -2.863872\n",
            "critical value (10%)      -2.568011\n",
            "Weak evidence against the null hypothesis\n",
            "Fail to reject the null hypothesis\n",
            "Data has a unit root and is non-stationary\n"
          ]
        }
      ]
    },
    {
      "cell_type": "code",
      "source": [
        "auto_arima(df['Price'],seasonal=False).summary()"
      ],
      "metadata": {
        "colab": {
          "base_uri": "https://localhost:8080/",
          "height": 409
        },
        "id": "id5H2lrR428b",
        "outputId": "52d453f1-9c52-4de7-b4b8-bb7e37c63a3c"
      },
      "execution_count": 673,
      "outputs": [
        {
          "output_type": "execute_result",
          "data": {
            "text/plain": [
              "<class 'statsmodels.iolib.summary.Summary'>\n",
              "\"\"\"\n",
              "                               SARIMAX Results                                \n",
              "==============================================================================\n",
              "Dep. Variable:                      y   No. Observations:                 1243\n",
              "Model:               SARIMAX(0, 1, 1)   Log Likelihood               -9693.943\n",
              "Date:                Wed, 04 Jan 2023   AIC                          19391.886\n",
              "Time:                        22:56:41   BIC                          19402.135\n",
              "Sample:                             0   HQIC                         19395.740\n",
              "                               - 1243                                         \n",
              "Covariance Type:                  opg                                         \n",
              "==============================================================================\n",
              "                 coef    std err          z      P>|z|      [0.025      0.975]\n",
              "------------------------------------------------------------------------------\n",
              "ma.L1          0.0737      0.019      3.873      0.000       0.036       0.111\n",
              "sigma2      3.529e+05   5172.208     68.227      0.000    3.43e+05    3.63e+05\n",
              "===================================================================================\n",
              "Ljung-Box (L1) (Q):                   0.02   Jarque-Bera (JB):              9100.08\n",
              "Prob(Q):                              0.90   Prob(JB):                         0.00\n",
              "Heteroskedasticity (H):               1.48   Skew:                            -1.25\n",
              "Prob(H) (two-sided):                  0.00   Kurtosis:                        16.02\n",
              "===================================================================================\n",
              "\n",
              "Warnings:\n",
              "[1] Covariance matrix calculated using the outer product of gradients (complex-step).\n",
              "\"\"\""
            ],
            "text/html": [
              "<table class=\"simpletable\">\n",
              "<caption>SARIMAX Results</caption>\n",
              "<tr>\n",
              "  <th>Dep. Variable:</th>           <td>y</td>        <th>  No. Observations:  </th>   <td>1243</td>   \n",
              "</tr>\n",
              "<tr>\n",
              "  <th>Model:</th>           <td>SARIMAX(0, 1, 1)</td> <th>  Log Likelihood     </th> <td>-9693.943</td>\n",
              "</tr>\n",
              "<tr>\n",
              "  <th>Date:</th>            <td>Wed, 04 Jan 2023</td> <th>  AIC                </th> <td>19391.886</td>\n",
              "</tr>\n",
              "<tr>\n",
              "  <th>Time:</th>                <td>22:56:41</td>     <th>  BIC                </th> <td>19402.135</td>\n",
              "</tr>\n",
              "<tr>\n",
              "  <th>Sample:</th>                  <td>0</td>        <th>  HQIC               </th> <td>19395.740</td>\n",
              "</tr>\n",
              "<tr>\n",
              "  <th></th>                      <td> - 1243</td>     <th>                     </th>     <td> </td>    \n",
              "</tr>\n",
              "<tr>\n",
              "  <th>Covariance Type:</th>        <td>opg</td>       <th>                     </th>     <td> </td>    \n",
              "</tr>\n",
              "</table>\n",
              "<table class=\"simpletable\">\n",
              "<tr>\n",
              "     <td></td>       <th>coef</th>     <th>std err</th>      <th>z</th>      <th>P>|z|</th>  <th>[0.025</th>    <th>0.975]</th>  \n",
              "</tr>\n",
              "<tr>\n",
              "  <th>ma.L1</th>  <td>    0.0737</td> <td>    0.019</td> <td>    3.873</td> <td> 0.000</td> <td>    0.036</td> <td>    0.111</td>\n",
              "</tr>\n",
              "<tr>\n",
              "  <th>sigma2</th> <td> 3.529e+05</td> <td> 5172.208</td> <td>   68.227</td> <td> 0.000</td> <td> 3.43e+05</td> <td> 3.63e+05</td>\n",
              "</tr>\n",
              "</table>\n",
              "<table class=\"simpletable\">\n",
              "<tr>\n",
              "  <th>Ljung-Box (L1) (Q):</th>     <td>0.02</td> <th>  Jarque-Bera (JB):  </th> <td>9100.08</td>\n",
              "</tr>\n",
              "<tr>\n",
              "  <th>Prob(Q):</th>                <td>0.90</td> <th>  Prob(JB):          </th>  <td>0.00</td>  \n",
              "</tr>\n",
              "<tr>\n",
              "  <th>Heteroskedasticity (H):</th> <td>1.48</td> <th>  Skew:              </th>  <td>-1.25</td> \n",
              "</tr>\n",
              "<tr>\n",
              "  <th>Prob(H) (two-sided):</th>    <td>0.00</td> <th>  Kurtosis:          </th>  <td>16.02</td> \n",
              "</tr>\n",
              "</table><br/><br/>Warnings:<br/>[1] Covariance matrix calculated using the outer product of gradients (complex-step)."
            ]
          },
          "metadata": {},
          "execution_count": 673
        }
      ]
    },
    {
      "cell_type": "code",
      "source": [
        "title = 'Original Stock Price'\n",
        "ylabel='Stock Price'\n",
        "xlabel='' # we don't really need a label here\n",
        "\n",
        "ax = df['Price'].plot(figsize=(12,5),title=title)\n",
        "ax.autoscale(axis='x',tight=True)\n",
        "ax.set(xlabel=xlabel, ylabel=ylabel)"
      ],
      "metadata": {
        "colab": {
          "base_uri": "https://localhost:8080/",
          "height": 353
        },
        "id": "elxUOgP6qo7v",
        "outputId": "5b0cb8d2-82f8-491a-e8ef-4b8576a13e4d"
      },
      "execution_count": 674,
      "outputs": [
        {
          "output_type": "execute_result",
          "data": {
            "text/plain": [
              "[Text(0, 0.5, 'Stock Price'), Text(0.5, 0, '')]"
            ]
          },
          "metadata": {},
          "execution_count": 674
        },
        {
          "output_type": "display_data",
          "data": {
            "text/plain": [
              "<Figure size 864x360 with 1 Axes>"
            ],
            "image/png": "[encoded data removed]"
          },
          "metadata": {
            "needs_background": "light"
          }
        }
      ]
    },
    {
      "cell_type": "code",
      "source": [
        "auto_arima(df['Price'],seasonal=False).summary()"
      ],
      "metadata": {
        "colab": {
          "base_uri": "https://localhost:8080/",
          "height": 409
        },
        "id": "U19XPx-jY50D",
        "outputId": "25282c98-f581-4d4a-fa98-ee2d2ff5ec62"
      },
      "execution_count": 675,
      "outputs": [
        {
          "output_type": "execute_result",
          "data": {
            "text/plain": [
              "<class 'statsmodels.iolib.summary.Summary'>\n",
              "\"\"\"\n",
              "                               SARIMAX Results                                \n",
              "==============================================================================\n",
              "Dep. Variable:                      y   No. Observations:                 1243\n",
              "Model:               SARIMAX(0, 1, 1)   Log Likelihood               -9693.943\n",
              "Date:                Wed, 04 Jan 2023   AIC                          19391.886\n",
              "Time:                        22:56:47   BIC                          19402.135\n",
              "Sample:                             0   HQIC                         19395.740\n",
              "                               - 1243                                         \n",
              "Covariance Type:                  opg                                         \n",
              "==============================================================================\n",
              "                 coef    std err          z      P>|z|      [0.025      0.975]\n",
              "------------------------------------------------------------------------------\n",
              "ma.L1          0.0737      0.019      3.873      0.000       0.036       0.111\n",
              "sigma2      3.529e+05   5172.208     68.227      0.000    3.43e+05    3.63e+05\n",
              "===================================================================================\n",
              "Ljung-Box (L1) (Q):                   0.02   Jarque-Bera (JB):              9100.08\n",
              "Prob(Q):                              0.90   Prob(JB):                         0.00\n",
              "Heteroskedasticity (H):               1.48   Skew:                            -1.25\n",
              "Prob(H) (two-sided):                  0.00   Kurtosis:                        16.02\n",
              "===================================================================================\n",
              "\n",
              "Warnings:\n",
              "[1] Covariance matrix calculated using the outer product of gradients (complex-step).\n",
              "\"\"\""
            ],
            "text/html": [
              "<table class=\"simpletable\">\n",
              "<caption>SARIMAX Results</caption>\n",
              "<tr>\n",
              "  <th>Dep. Variable:</th>           <td>y</td>        <th>  No. Observations:  </th>   <td>1243</td>   \n",
              "</tr>\n",
              "<tr>\n",
              "  <th>Model:</th>           <td>SARIMAX(0, 1, 1)</td> <th>  Log Likelihood     </th> <td>-9693.943</td>\n",
              "</tr>\n",
              "<tr>\n",
              "  <th>Date:</th>            <td>Wed, 04 Jan 2023</td> <th>  AIC                </th> <td>19391.886</td>\n",
              "</tr>\n",
              "<tr>\n",
              "  <th>Time:</th>                <td>22:56:47</td>     <th>  BIC                </th> <td>19402.135</td>\n",
              "</tr>\n",
              "<tr>\n",
              "  <th>Sample:</th>                  <td>0</td>        <th>  HQIC               </th> <td>19395.740</td>\n",
              "</tr>\n",
              "<tr>\n",
              "  <th></th>                      <td> - 1243</td>     <th>                     </th>     <td> </td>    \n",
              "</tr>\n",
              "<tr>\n",
              "  <th>Covariance Type:</th>        <td>opg</td>       <th>                     </th>     <td> </td>    \n",
              "</tr>\n",
              "</table>\n",
              "<table class=\"simpletable\">\n",
              "<tr>\n",
              "     <td></td>       <th>coef</th>     <th>std err</th>      <th>z</th>      <th>P>|z|</th>  <th>[0.025</th>    <th>0.975]</th>  \n",
              "</tr>\n",
              "<tr>\n",
              "  <th>ma.L1</th>  <td>    0.0737</td> <td>    0.019</td> <td>    3.873</td> <td> 0.000</td> <td>    0.036</td> <td>    0.111</td>\n",
              "</tr>\n",
              "<tr>\n",
              "  <th>sigma2</th> <td> 3.529e+05</td> <td> 5172.208</td> <td>   68.227</td> <td> 0.000</td> <td> 3.43e+05</td> <td> 3.63e+05</td>\n",
              "</tr>\n",
              "</table>\n",
              "<table class=\"simpletable\">\n",
              "<tr>\n",
              "  <th>Ljung-Box (L1) (Q):</th>     <td>0.02</td> <th>  Jarque-Bera (JB):  </th> <td>9100.08</td>\n",
              "</tr>\n",
              "<tr>\n",
              "  <th>Prob(Q):</th>                <td>0.90</td> <th>  Prob(JB):          </th>  <td>0.00</td>  \n",
              "</tr>\n",
              "<tr>\n",
              "  <th>Heteroskedasticity (H):</th> <td>1.48</td> <th>  Skew:              </th>  <td>-1.25</td> \n",
              "</tr>\n",
              "<tr>\n",
              "  <th>Prob(H) (two-sided):</th>    <td>0.00</td> <th>  Kurtosis:          </th>  <td>16.02</td> \n",
              "</tr>\n",
              "</table><br/><br/>Warnings:<br/>[1] Covariance matrix calculated using the outer product of gradients (complex-step)."
            ]
          },
          "metadata": {},
          "execution_count": 675
        }
      ]
    },
    {
      "cell_type": "code",
      "source": [
        "from statsmodels.tsa.statespace.tools import diff\n",
        "df['d1'] = diff(df['Price'],k_diff=1)\n",
        "\n",
        "# Equivalent to:\n",
        "# df1['d1'] = df1['Inventories'] - df1['Inventories'].shift(1)\n",
        "\n",
        "adf_test(df['d1'],'Stock Price')"
      ],
      "metadata": {
        "colab": {
          "base_uri": "https://localhost:8080/"
        },
        "id": "8ktkxz5KkPzP",
        "outputId": "022b4703-5f29-444b-a129-b696c868369a"
      },
      "execution_count": 676,
      "outputs": [
        {
          "output_type": "stream",
          "name": "stdout",
          "text": [
            "Augmented Dickey-Fuller Test: Stock Price\n",
            "ADF test statistic       -32.877943\n",
            "p-value                    0.000000\n",
            "# lags used                0.000000\n",
            "# observations          1241.000000\n",
            "critical value (1%)       -3.435630\n",
            "critical value (5%)       -2.863872\n",
            "critical value (10%)      -2.568011\n",
            "Strong evidence against the null hypothesis\n",
            "Reject the null hypothesis\n",
            "Data has no unit root and is stationary\n"
          ]
        }
      ]
    },
    {
      "cell_type": "code",
      "source": [
        "title = 'Autocorrelation: Original Stock Price'\n",
        "lags = 40\n",
        "plot_acf(df['Price'],title=title,lags=lags);"
      ],
      "metadata": {
        "colab": {
          "base_uri": "https://localhost:8080/",
          "height": 281
        },
        "id": "Op4uwQFuZECz",
        "outputId": "5f40d935-85ec-406c-e763-aa0e5a21323e"
      },
      "execution_count": 677,
      "outputs": [
        {
          "output_type": "display_data",
          "data": {
            "text/plain": [
              "<Figure size 432x288 with 1 Axes>"
            ],
            "image/png": "[encoded data removed]"
          },
          "metadata": {
            "needs_background": "light"
          }
        }
      ]
    },
    {
      "cell_type": "code",
      "source": [
        "title = 'Partial Autocorrelation: Original Stock Price'\n",
        "lags = 40\n",
        "plot_pacf(df['Price'],title=title,lags=lags);"
      ],
      "metadata": {
        "colab": {
          "base_uri": "https://localhost:8080/",
          "height": 281
        },
        "id": "hBto9HHlZGXV",
        "outputId": "46dcec67-f370-4f30-f436-a445a926de95"
      },
      "execution_count": 678,
      "outputs": [
        {
          "output_type": "display_data",
          "data": {
            "text/plain": [
              "<Figure size 432x288 with 1 Axes>"
            ],
            "image/png": "[encoded data removed]"
          },
          "metadata": {
            "needs_background": "light"
          }
        }
      ]
    },
    {
      "cell_type": "code",
      "source": [
        "stepwise_fit = auto_arima(df['Price'], start_p=0, start_q=0,\n",
        "                          max_p=3, max_q=3, m=12,\n",
        "                          seasonal=False,\n",
        "                          d=None, trace=True,\n",
        "                          error_action='ignore',   # we don't want to know if an order does not work\n",
        "                          suppress_warnings=True,  # we don't want convergence warnings\n",
        "                          stepwise=True)           # set to stepwise\n",
        "\n",
        "stepwise_fit.summary()"
      ],
      "metadata": {
        "id": "CqR2oqbt1Z5Y",
        "colab": {
          "base_uri": "https://localhost:8080/",
          "height": 686
        },
        "outputId": "50abf3ac-afe3-44d4-85f8-da52973eec0e"
      },
      "execution_count": 679,
      "outputs": [
        {
          "output_type": "stream",
          "name": "stdout",
          "text": [
            "Performing stepwise search to minimize aic\n",
            " ARIMA(0,1,0)(0,0,0)[0] intercept   : AIC=19398.521, Time=0.04 sec\n",
            " ARIMA(1,1,0)(0,0,0)[0] intercept   : AIC=19394.201, Time=0.08 sec\n",
            " ARIMA(0,1,1)(0,0,0)[0] intercept   : AIC=19393.857, Time=0.28 sec\n",
            " ARIMA(0,1,0)(0,0,0)[0]             : AIC=19396.549, Time=0.08 sec\n",
            " ARIMA(1,1,1)(0,0,0)[0] intercept   : AIC=19395.180, Time=0.83 sec\n",
            " ARIMA(0,1,2)(0,0,0)[0] intercept   : AIC=19395.164, Time=0.43 sec\n",
            " ARIMA(1,1,2)(0,0,0)[0] intercept   : AIC=19397.118, Time=1.89 sec\n",
            " ARIMA(0,1,1)(0,0,0)[0]             : AIC=19391.886, Time=0.14 sec\n",
            " ARIMA(1,1,1)(0,0,0)[0]             : AIC=19393.206, Time=0.55 sec\n",
            " ARIMA(0,1,2)(0,0,0)[0]             : AIC=19393.186, Time=0.25 sec\n",
            " ARIMA(1,1,0)(0,0,0)[0]             : AIC=19392.231, Time=0.13 sec\n",
            " ARIMA(1,1,2)(0,0,0)[0]             : AIC=19395.137, Time=0.94 sec\n",
            "\n",
            "Best model:  ARIMA(0,1,1)(0,0,0)[0]          \n",
            "Total fit time: 5.687 seconds\n"
          ]
        },
        {
          "output_type": "execute_result",
          "data": {
            "text/plain": [
              "<class 'statsmodels.iolib.summary.Summary'>\n",
              "\"\"\"\n",
              "                               SARIMAX Results                                \n",
              "==============================================================================\n",
              "Dep. Variable:                      y   No. Observations:                 1243\n",
              "Model:               SARIMAX(0, 1, 1)   Log Likelihood               -9693.943\n",
              "Date:                Wed, 04 Jan 2023   AIC                          19391.886\n",
              "Time:                        22:56:53   BIC                          19402.135\n",
              "Sample:                             0   HQIC                         19395.740\n",
              "                               - 1243                                         \n",
              "Covariance Type:                  opg                                         \n",
              "==============================================================================\n",
              "                 coef    std err          z      P>|z|      [0.025      0.975]\n",
              "------------------------------------------------------------------------------\n",
              "ma.L1          0.0737      0.019      3.873      0.000       0.036       0.111\n",
              "sigma2      3.529e+05   5172.208     68.227      0.000    3.43e+05    3.63e+05\n",
              "===================================================================================\n",
              "Ljung-Box (L1) (Q):                   0.02   Jarque-Bera (JB):              9100.08\n",
              "Prob(Q):                              0.90   Prob(JB):                         0.00\n",
              "Heteroskedasticity (H):               1.48   Skew:                            -1.25\n",
              "Prob(H) (two-sided):                  0.00   Kurtosis:                        16.02\n",
              "===================================================================================\n",
              "\n",
              "Warnings:\n",
              "[1] Covariance matrix calculated using the outer product of gradients (complex-step).\n",
              "\"\"\""
            ],
            "text/html": [
              "<table class=\"simpletable\">\n",
              "<caption>SARIMAX Results</caption>\n",
              "<tr>\n",
              "  <th>Dep. Variable:</th>           <td>y</td>        <th>  No. Observations:  </th>   <td>1243</td>   \n",
              "</tr>\n",
              "<tr>\n",
              "  <th>Model:</th>           <td>SARIMAX(0, 1, 1)</td> <th>  Log Likelihood     </th> <td>-9693.943</td>\n",
              "</tr>\n",
              "<tr>\n",
              "  <th>Date:</th>            <td>Wed, 04 Jan 2023</td> <th>  AIC                </th> <td>19391.886</td>\n",
              "</tr>\n",
              "<tr>\n",
              "  <th>Time:</th>                <td>22:56:53</td>     <th>  BIC                </th> <td>19402.135</td>\n",
              "</tr>\n",
              "<tr>\n",
              "  <th>Sample:</th>                  <td>0</td>        <th>  HQIC               </th> <td>19395.740</td>\n",
              "</tr>\n",
              "<tr>\n",
              "  <th></th>                      <td> - 1243</td>     <th>                     </th>     <td> </td>    \n",
              "</tr>\n",
              "<tr>\n",
              "  <th>Covariance Type:</th>        <td>opg</td>       <th>                     </th>     <td> </td>    \n",
              "</tr>\n",
              "</table>\n",
              "<table class=\"simpletable\">\n",
              "<tr>\n",
              "     <td></td>       <th>coef</th>     <th>std err</th>      <th>z</th>      <th>P>|z|</th>  <th>[0.025</th>    <th>0.975]</th>  \n",
              "</tr>\n",
              "<tr>\n",
              "  <th>ma.L1</th>  <td>    0.0737</td> <td>    0.019</td> <td>    3.873</td> <td> 0.000</td> <td>    0.036</td> <td>    0.111</td>\n",
              "</tr>\n",
              "<tr>\n",
              "  <th>sigma2</th> <td> 3.529e+05</td> <td> 5172.208</td> <td>   68.227</td> <td> 0.000</td> <td> 3.43e+05</td> <td> 3.63e+05</td>\n",
              "</tr>\n",
              "</table>\n",
              "<table class=\"simpletable\">\n",
              "<tr>\n",
              "  <th>Ljung-Box (L1) (Q):</th>     <td>0.02</td> <th>  Jarque-Bera (JB):  </th> <td>9100.08</td>\n",
              "</tr>\n",
              "<tr>\n",
              "  <th>Prob(Q):</th>                <td>0.90</td> <th>  Prob(JB):          </th>  <td>0.00</td>  \n",
              "</tr>\n",
              "<tr>\n",
              "  <th>Heteroskedasticity (H):</th> <td>1.48</td> <th>  Skew:              </th>  <td>-1.25</td> \n",
              "</tr>\n",
              "<tr>\n",
              "  <th>Prob(H) (two-sided):</th>    <td>0.00</td> <th>  Kurtosis:          </th>  <td>16.02</td> \n",
              "</tr>\n",
              "</table><br/><br/>Warnings:<br/>[1] Covariance matrix calculated using the outer product of gradients (complex-step)."
            ]
          },
          "metadata": {},
          "execution_count": 679
        }
      ]
    },
    {
      "cell_type": "code",
      "source": [
        "import warnings\n",
        "warnings.filterwarnings('ignore', 'statsmodels.tsa.arima_model.ARMA',\n",
        "                        FutureWarning)\n",
        "warnings.filterwarnings('ignore', 'statsmodels.tsa.arima_model.ARIMA',\n",
        "                        FutureWarning)"
      ],
      "metadata": {
        "id": "BleB9ugKkPtF"
      },
      "execution_count": 680,
      "outputs": []
    },
    {
      "cell_type": "code",
      "source": [
        "def split_data(data, test_split):\n",
        "    length = len(data)\n",
        "    size = round(length * (1 - test_split))\n",
        "    train, test = data[:size], data[size:]\n",
        "    print('train:', len(train))\n",
        "    print('test:', len(test))\n",
        "    return train, test"
      ],
      "metadata": {
        "id": "9pMX9OjGtpgw"
      },
      "execution_count": 681,
      "outputs": []
    },
    {
      "cell_type": "code",
      "source": [
        "test_split = 0.3\n",
        "train, test = split_data(df, test_split)"
      ],
      "metadata": {
        "colab": {
          "base_uri": "https://localhost:8080/"
        },
        "id": "Gl9UyRUgzzAV",
        "outputId": "dd46edf7-8638-468c-abb0-55e3ddf9f4f1"
      },
      "execution_count": 682,
      "outputs": [
        {
          "output_type": "stream",
          "name": "stdout",
          "text": [
            "train: 870\n",
            "test: 373\n"
          ]
        }
      ]
    },
    {
      "cell_type": "code",
      "source": [
        "model = sm.tsa.arima.ARIMA(train['Price'], order = (0,1,1))\n",
        "model = model.fit()\n",
        "model.summary()"
      ],
      "metadata": {
        "colab": {
          "base_uri": "https://localhost:8080/",
          "height": 409
        },
        "id": "QsAViETltI0d",
        "outputId": "5fec5db1-be06-4d81-9089-1c4887b38cd9"
      },
      "execution_count": 683,
      "outputs": [
        {
          "output_type": "execute_result",
          "data": {
            "text/plain": [
              "<class 'statsmodels.iolib.summary.Summary'>\n",
              "\"\"\"\n",
              "                               SARIMAX Results                                \n",
              "==============================================================================\n",
              "Dep. Variable:                  Price   No. Observations:                  870\n",
              "Model:                 ARIMA(0, 1, 1)   Log Likelihood               -6601.299\n",
              "Date:                Wed, 04 Jan 2023   AIC                          13206.598\n",
              "Time:                        22:56:53   BIC                          13216.133\n",
              "Sample:                             0   HQIC                         13210.247\n",
              "                                - 870                                         \n",
              "Covariance Type:                  opg                                         \n",
              "==============================================================================\n",
              "                 coef    std err          z      P>|z|      [0.025      0.975]\n",
              "------------------------------------------------------------------------------\n",
              "ma.L1          0.0414      0.021      1.938      0.053      -0.000       0.083\n",
              "sigma2      2.323e+05   2459.219     94.444      0.000    2.27e+05    2.37e+05\n",
              "===================================================================================\n",
              "Ljung-Box (L1) (Q):                   0.02   Jarque-Bera (JB):             56899.16\n",
              "Prob(Q):                              0.87   Prob(JB):                         0.00\n",
              "Heteroskedasticity (H):               0.10   Skew:                            -3.38\n",
              "Prob(H) (two-sided):                  0.00   Kurtosis:                        42.06\n",
              "===================================================================================\n",
              "\n",
              "Warnings:\n",
              "[1] Covariance matrix calculated using the outer product of gradients (complex-step).\n",
              "\"\"\""
            ],
            "text/html": [
              "<table class=\"simpletable\">\n",
              "<caption>SARIMAX Results</caption>\n",
              "<tr>\n",
              "  <th>Dep. Variable:</th>         <td>Price</td>      <th>  No. Observations:  </th>    <td>870</td>   \n",
              "</tr>\n",
              "<tr>\n",
              "  <th>Model:</th>            <td>ARIMA(0, 1, 1)</td>  <th>  Log Likelihood     </th> <td>-6601.299</td>\n",
              "</tr>\n",
              "<tr>\n",
              "  <th>Date:</th>            <td>Wed, 04 Jan 2023</td> <th>  AIC                </th> <td>13206.598</td>\n",
              "</tr>\n",
              "<tr>\n",
              "  <th>Time:</th>                <td>22:56:53</td>     <th>  BIC                </th> <td>13216.133</td>\n",
              "</tr>\n",
              "<tr>\n",
              "  <th>Sample:</th>                  <td>0</td>        <th>  HQIC               </th> <td>13210.247</td>\n",
              "</tr>\n",
              "<tr>\n",
              "  <th></th>                      <td> - 870</td>      <th>                     </th>     <td> </td>    \n",
              "</tr>\n",
              "<tr>\n",
              "  <th>Covariance Type:</th>        <td>opg</td>       <th>                     </th>     <td> </td>    \n",
              "</tr>\n",
              "</table>\n",
              "<table class=\"simpletable\">\n",
              "<tr>\n",
              "     <td></td>       <th>coef</th>     <th>std err</th>      <th>z</th>      <th>P>|z|</th>  <th>[0.025</th>    <th>0.975]</th>  \n",
              "</tr>\n",
              "<tr>\n",
              "  <th>ma.L1</th>  <td>    0.0414</td> <td>    0.021</td> <td>    1.938</td> <td> 0.053</td> <td>   -0.000</td> <td>    0.083</td>\n",
              "</tr>\n",
              "<tr>\n",
              "  <th>sigma2</th> <td> 2.323e+05</td> <td> 2459.219</td> <td>   94.444</td> <td> 0.000</td> <td> 2.27e+05</td> <td> 2.37e+05</td>\n",
              "</tr>\n",
              "</table>\n",
              "<table class=\"simpletable\">\n",
              "<tr>\n",
              "  <th>Ljung-Box (L1) (Q):</th>     <td>0.02</td> <th>  Jarque-Bera (JB):  </th> <td>56899.16</td>\n",
              "</tr>\n",
              "<tr>\n",
              "  <th>Prob(Q):</th>                <td>0.87</td> <th>  Prob(JB):          </th>   <td>0.00</td>  \n",
              "</tr>\n",
              "<tr>\n",
              "  <th>Heteroskedasticity (H):</th> <td>0.10</td> <th>  Skew:              </th>   <td>-3.38</td> \n",
              "</tr>\n",
              "<tr>\n",
              "  <th>Prob(H) (two-sided):</th>    <td>0.00</td> <th>  Kurtosis:          </th>   <td>42.06</td> \n",
              "</tr>\n",
              "</table><br/><br/>Warnings:<br/>[1] Covariance matrix calculated using the outer product of gradients (complex-step)."
            ]
          },
          "metadata": {},
          "execution_count": 683
        }
      ]
    },
    {
      "cell_type": "code",
      "source": [
        "start = len(train)\n",
        "end = len(train) + len(test) -1\n",
        "pred = model.predict(start = start, end = end, typ = 'levels').rename('ARIMA(0,1,1) Predictions')\n",
        "\n",
        "print(pred)\n",
        "pred.index = df.index[start: end + 1]"
      ],
      "metadata": {
        "colab": {
          "base_uri": "https://localhost:8080/"
        },
        "id": "L0Znl6rz1NsD",
        "outputId": "7ede2adf-7021-4ec0-dd2c-484a04d2a820"
      },
      "execution_count": 684,
      "outputs": [
        {
          "output_type": "stream",
          "name": "stdout",
          "text": [
            "870     15018.010478\n",
            "871     15018.010478\n",
            "872     15018.010478\n",
            "873     15018.010478\n",
            "874     15018.010478\n",
            "            ...     \n",
            "1238    15018.010478\n",
            "1239    15018.010478\n",
            "1240    15018.010478\n",
            "1241    15018.010478\n",
            "1242    15018.010478\n",
            "Name: ARIMA(0,1,1) Predictions, Length: 373, dtype: float64\n"
          ]
        }
      ]
    },
    {
      "cell_type": "code",
      "source": [
        "# Plot predictions against known values\n",
        "title = 'Stock Price'\n",
        "ylabel='Stock Price'\n",
        "xlabel='' # we don't really need a label here\n",
        "\n",
        "ax = test['Price'].plot(legend=True,figsize=(12,6),title=title)\n",
        "pred.plot(legend=True)\n",
        "ax.autoscale(axis='x',tight=True)\n",
        "ax.set(xlabel=xlabel, ylabel=ylabel)\n"
      ],
      "metadata": {
        "colab": {
          "base_uri": "https://localhost:8080/",
          "height": 407
        },
        "id": "CMY-ylSJ1YPH",
        "outputId": "3824866c-cb80-486e-9d4a-a16d856b89e8"
      },
      "execution_count": 685,
      "outputs": [
        {
          "output_type": "execute_result",
          "data": {
            "text/plain": [
              "[Text(0, 0.5, 'Stock Price'), Text(0.5, 0, '')]"
            ]
          },
          "metadata": {},
          "execution_count": 685
        },
        {
          "output_type": "display_data",
          "data": {
            "text/plain": [
              "<Figure size 864x432 with 1 Axes>"
            ],
            "image/png": "[encoded data removed]"
          },
          "metadata": {
            "needs_background": "light"
          }
        }
      ]
    },
    {
      "cell_type": "code",
      "source": [],
      "metadata": {
        "id": "coex17Qf5h4M"
      },
      "execution_count": 685,
      "outputs": []
    },
    {
      "cell_type": "code",
      "source": [
        "from sklearn.metrics import mean_squared_error\n",
        "from sklearn.metrics import mean_absolute_percentage_error\n",
        "\n",
        "mse =  mean_squared_error(pred, test['Price'])\n",
        "rmse = sqrt(mse)\n",
        "mape = mean_absolute_percentage_error(pred, test['Price'])\n",
        "print(\"RMSE: \", rmse)\n",
        "print(\"MAPE: \", mape * 100)"
      ],
      "metadata": {
        "colab": {
          "base_uri": "https://localhost:8080/"
        },
        "id": "jOoLAobNEXzb",
        "outputId": "1e434445-1cb4-45ed-b17f-3cf95a2c9a5d"
      },
      "execution_count": 686,
      "outputs": [
        {
          "output_type": "stream",
          "name": "stdout",
          "text": [
            "RMSE:  9788.04091769666\n",
            "MAPE:  53.881135451941454\n"
          ]
        }
      ]
    }
  ]
}